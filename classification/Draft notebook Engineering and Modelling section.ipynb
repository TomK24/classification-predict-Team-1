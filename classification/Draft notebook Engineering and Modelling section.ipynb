{
 "cells": [
  {
   "cell_type": "code",
   "execution_count": 1,
   "id": "bbf837e7",
   "metadata": {},
   "outputs": [],
   "source": [
    "import numpy as np # linear algebra\n",
    "import pandas as pd # data processing, CSV file I/O (e.g. pd.read_csv)\n",
    "import nltk\n",
    "import matplotlib.pyplot as plt\n",
    "%matplotlib inline\n",
    "import seaborn as sns\n",
    "import re\n",
    "import urllib #For webscraping\n",
    "from sklearn.model_selection import train_test_split\n",
    "\n",
    "from sklearn.naive_bayes import MultinomialNB\n",
    "from sklearn.neighbors import KNeighborsClassifier\n",
    "from sklearn.ensemble import RandomForestClassifier\n",
    "from sklearn.linear_model import LogisticRegression\n",
    "from sklearn.naive_bayes import ComplementNB\n",
    "from sklearn.svm import LinearSVC\n",
    "\n",
    "from sklearn.feature_extraction.text import TfidfVectorizer\n",
    "from sklearn.feature_extraction.text import CountVectorizer\n",
    "from sklearn import metrics\n",
    "from sklearn.metrics import classification_report, confusion_matrix, f1_score, precision_score, recall_score\n",
    "\n",
    "from sklearn.model_selection import GridSearchCV\n",
    "\n",
    "# set plot style\n",
    "sns.set()\n",
    "\n"
   ]
  },
  {
   "cell_type": "code",
   "execution_count": 2,
   "id": "b6c31f0d",
   "metadata": {},
   "outputs": [
    {
     "data": {
      "text/html": [
       "<div>\n",
       "<style scoped>\n",
       "    .dataframe tbody tr th:only-of-type {\n",
       "        vertical-align: middle;\n",
       "    }\n",
       "\n",
       "    .dataframe tbody tr th {\n",
       "        vertical-align: top;\n",
       "    }\n",
       "\n",
       "    .dataframe thead th {\n",
       "        text-align: right;\n",
       "    }\n",
       "</style>\n",
       "<table border=\"1\" class=\"dataframe\">\n",
       "  <thead>\n",
       "    <tr style=\"text-align: right;\">\n",
       "      <th></th>\n",
       "      <th>sentiment</th>\n",
       "      <th>message</th>\n",
       "      <th>tweetid</th>\n",
       "    </tr>\n",
       "  </thead>\n",
       "  <tbody>\n",
       "    <tr>\n",
       "      <th>0</th>\n",
       "      <td>1</td>\n",
       "      <td>PolySciMajor EPA chief doesn't think carbon di...</td>\n",
       "      <td>625221</td>\n",
       "    </tr>\n",
       "    <tr>\n",
       "      <th>1</th>\n",
       "      <td>1</td>\n",
       "      <td>It's not like we lack evidence of anthropogeni...</td>\n",
       "      <td>126103</td>\n",
       "    </tr>\n",
       "    <tr>\n",
       "      <th>2</th>\n",
       "      <td>2</td>\n",
       "      <td>RT @RawStory: Researchers say we have three ye...</td>\n",
       "      <td>698562</td>\n",
       "    </tr>\n",
       "    <tr>\n",
       "      <th>3</th>\n",
       "      <td>1</td>\n",
       "      <td>#TodayinMaker# WIRED : 2016 was a pivotal year...</td>\n",
       "      <td>573736</td>\n",
       "    </tr>\n",
       "    <tr>\n",
       "      <th>4</th>\n",
       "      <td>1</td>\n",
       "      <td>RT @SoyNovioDeTodas: It's 2016, and a racist, ...</td>\n",
       "      <td>466954</td>\n",
       "    </tr>\n",
       "  </tbody>\n",
       "</table>\n",
       "</div>"
      ],
      "text/plain": [
       "   sentiment                                            message  tweetid\n",
       "0          1  PolySciMajor EPA chief doesn't think carbon di...   625221\n",
       "1          1  It's not like we lack evidence of anthropogeni...   126103\n",
       "2          2  RT @RawStory: Researchers say we have three ye...   698562\n",
       "3          1  #TodayinMaker# WIRED : 2016 was a pivotal year...   573736\n",
       "4          1  RT @SoyNovioDeTodas: It's 2016, and a racist, ...   466954"
      ]
     },
     "execution_count": 2,
     "metadata": {},
     "output_type": "execute_result"
    }
   ],
   "source": [
    "# Read data in and view first few entries\n",
    "df = pd.read_csv('train.csv')\n",
    "df.head()"
   ]
  },
  {
   "cell_type": "markdown",
   "id": "eff6afae",
   "metadata": {},
   "source": [
    "## Data Engineering\n",
    "---\n",
    "Prior to training a model with any sort of data, it is essential to re-engineer it. This is to ensure that the data is in a consistent form with no missing values, incorrect data types or just plain incorrect data. For structured,  numeric data, this entails scaling values, filling in missing values and typecasting any non-numeric data to numeric form. Non-numeric data, such as this database is often unstructured and consists of text data. This type of data is not easily interpretable by computers. Computers work with 1s and 0s, not letters and words. Therefore it must be converted into a form that is interpretable, and therefore, numeric data. "
   ]
  },
  {
   "cell_type": "markdown",
   "id": "0724a839",
   "metadata": {},
   "source": [
    "### Text Cleaning -  Removing URLs"
   ]
  },
  {
   "cell_type": "markdown",
   "id": "ac90525c",
   "metadata": {},
   "source": [
    "Many of the tweets in this dataset have URLs in them. For this project, we have decided to completely replace them with a consistent \"url-web\" token. Another option is to extract useful information from these links. One approach we tried was to extract the title of webpages in tweets and add them to the tweet text, this could potentially improve model quality, but there are several issues with this approach. Firstly, this dataset is a few years old, many of the URLs no longer exist, in addition to this, there appears to be an encoding issue with the some of the tweets which contain strange non-standard characters, when these characters occur in tweet URLs, this breaks it. \n",
    "\n",
    "---\n",
    "\n",
    "Additionally, extracting information from URLs, aka webscraping, is a slow process. This dataset contains a few thousand URLs so to extract page titles from each URL a request needs to be sent, a response must be recieved and HTML data must be downloaded. Doing this a few times is not an issue but doing it a few thousand times takes a significant amount of time and data. It is possible to speed this process up by making it highly threaded, so that each URL isn't queryied sequentially, but this doesn't solve the problem entirely"
   ]
  },
  {
   "cell_type": "code",
   "execution_count": 3,
   "id": "85632ca3",
   "metadata": {},
   "outputs": [],
   "source": [
    "pattern_url = r'http[s]?://(?:[A-Za-z]|[0-9]|[$-_@.&+]|[!*\\(\\),]|(?:%[0-9A-Fa-f][0-9A-Fa-f]))+'\n",
    "subs_url = r'url-web'\n",
    "df['message'] = df['message'].replace(to_replace = pattern_url, value = subs_url, regex = True)"
   ]
  },
  {
   "cell_type": "markdown",
   "id": "b78bde65",
   "metadata": {},
   "source": [
    "The next step taken was to convert all capital letters to lowercase, and to remove all non-standard characters and punctuation. What remains in each tweet is now only lowercase letters, numbers and spaces."
   ]
  },
  {
   "cell_type": "code",
   "execution_count": 4,
   "id": "398815ad",
   "metadata": {},
   "outputs": [],
   "source": [
    "df['message'] = df['message'].str.lower()"
   ]
  },
  {
   "cell_type": "code",
   "execution_count": 5,
   "id": "4b32d1c6",
   "metadata": {},
   "outputs": [],
   "source": [
    "normal_chars = 'abcdefghijklmnopqrstuvwxyz0123456789 '\n",
    "def remove_weird_chars(post):\n",
    "    return ''.join([l for l in post if l in normal_chars])"
   ]
  },
  {
   "cell_type": "code",
   "execution_count": 6,
   "id": "1dd47f30",
   "metadata": {},
   "outputs": [
    {
     "data": {
      "text/plain": [
       "'polyscimajor epa chief doesnt think carbon dioxide is main cause of global warming and wait what urlweb via mashable'"
      ]
     },
     "execution_count": 6,
     "metadata": {},
     "output_type": "execute_result"
    }
   ],
   "source": [
    "df['message'] = df['message'].apply(remove_weird_chars)\n",
    "df['message'].iloc[0]"
   ]
  },
  {
   "cell_type": "markdown",
   "id": "dfa800fd",
   "metadata": {},
   "source": [
    "## Creating Features and labels datasets"
   ]
  },
  {
   "cell_type": "code",
   "execution_count": 7,
   "id": "a73706e8",
   "metadata": {},
   "outputs": [],
   "source": [
    "X = df[\"message\"]\n",
    "y = df[\"sentiment\"]"
   ]
  },
  {
   "cell_type": "code",
   "execution_count": 8,
   "id": "6c8d9a24",
   "metadata": {},
   "outputs": [
    {
     "data": {
      "text/plain": [
       "0    polyscimajor epa chief doesnt think carbon dio...\n",
       "1    its not like we lack evidence of anthropogenic...\n",
       "2    rt rawstory researchers say we have three year...\n",
       "3    todayinmaker wired  2016 was a pivotal year in...\n",
       "4    rt soynoviodetodas its 2016 and a racist sexis...\n",
       "Name: message, dtype: object"
      ]
     },
     "execution_count": 8,
     "metadata": {},
     "output_type": "execute_result"
    }
   ],
   "source": [
    "X.head()"
   ]
  },
  {
   "cell_type": "markdown",
   "id": "18c525a0",
   "metadata": {},
   "source": [
    "## Train, test split"
   ]
  },
  {
   "cell_type": "markdown",
   "id": "007f00b7",
   "metadata": {},
   "source": [
    "When training a model, it is essential to set some data aside that will not be exposed to the model during the initial training process. This data is used after training to evaluate the trained model's performance. If this is not done, we have no way of knowing how our model will perform on unseen data. Will it be able to generalize well? Or has it just learnt to minimize errors on the training data (ie our model is overfitted). Below we split our features and labels into training and testing sets, with the testing set being 25% of the total data set and the training set being the other 75%."
   ]
  },
  {
   "cell_type": "code",
   "execution_count": 9,
   "id": "556e190f",
   "metadata": {},
   "outputs": [],
   "source": [
    "from sklearn.model_selection import train_test_split\n",
    "X_train, X_test, y_train, y_test = train_test_split(X, y, test_size=0.25, random_state=42)"
   ]
  },
  {
   "cell_type": "markdown",
   "id": "db37cc88",
   "metadata": {},
   "source": [
    "## Vectorizing using Tfidf"
   ]
  },
  {
   "cell_type": "markdown",
   "id": "04d31b6c",
   "metadata": {},
   "source": [
    "The overall process of turning a collection of text data into numerical vectors is called vectorization. This process is often divided into 3 steps:\n",
    "\n",
    "1.Tokenize text by assigning an ID to each possible token, often by using whitespace as a token separator\n",
    "\n",
    "2.Count the number of times each token occurs in the document\n",
    "\n",
    "3.Normalizing and redicing the weighting of tokens that occur very often in the corpus as these likely do not assist in model training\n",
    "\n",
    "After vectorization, a corpus of strings or documents can be stored as a matrix, where a row corresponds to a document and a column corresponds to a particular token. This strategy outlined above is known as 'Bag of Words' representation as text data is stored purely as counts of word occurances, with word order not being a factor.\n",
    "\n",
    "---\n",
    "\n",
    "tf–idf, the vectorization method here stands for term-frequency times inverse document-frequency, and it was used because it helps minimize the importance of tokens that appear frequently in the corpus. "
   ]
  },
  {
   "cell_type": "code",
   "execution_count": 10,
   "id": "ea601c6e",
   "metadata": {},
   "outputs": [
    {
     "data": {
      "text/plain": [
       "<11864x91470 sparse matrix of type '<class 'numpy.float64'>'\n",
       "\twith 944852 stored elements in Compressed Sparse Row format>"
      ]
     },
     "execution_count": 10,
     "metadata": {},
     "output_type": "execute_result"
    }
   ],
   "source": [
    "vect = TfidfVectorizer(min_df=2, max_df=0.25, analyzer='char', ngram_range=(6,6))\n",
    "vect.fit_transform(X_train)"
   ]
  },
  {
   "cell_type": "code",
   "execution_count": 11,
   "id": "740a63d7",
   "metadata": {},
   "outputs": [],
   "source": [
    "pred_dict = {}"
   ]
  },
  {
   "cell_type": "markdown",
   "id": "3ba72df6",
   "metadata": {},
   "source": [
    "# Modelling"
   ]
  },
  {
   "cell_type": "markdown",
   "id": "4cbfe8e3",
   "metadata": {},
   "source": [
    "## Model 1: Complement Naive Bayes classifier"
   ]
  },
  {
   "cell_type": "code",
   "execution_count": null,
   "id": "81a08ea5",
   "metadata": {},
   "outputs": [],
   "source": []
  },
  {
   "cell_type": "code",
   "execution_count": 49,
   "id": "c7382b5c",
   "metadata": {},
   "outputs": [],
   "source": [
    "param_grid_cnb = {'alpha': [0.01, 0.05, 0.1,0.25,0.5,0.75,1]}"
   ]
  },
  {
   "cell_type": "code",
   "execution_count": 50,
   "id": "1e285ab4",
   "metadata": {},
   "outputs": [],
   "source": [
    "model = ComplementNB(alpha=0.1)"
   ]
  },
  {
   "cell_type": "code",
   "execution_count": 51,
   "id": "9cf257ec",
   "metadata": {},
   "outputs": [],
   "source": [
    "grid_CNB = GridSearchCV(ComplementNB(), param_grid_cnb, scoring='f1_weighted')"
   ]
  },
  {
   "cell_type": "code",
   "execution_count": 52,
   "id": "6984c4e2",
   "metadata": {},
   "outputs": [
    {
     "data": {
      "text/plain": [
       "{'alpha': 0.5}"
      ]
     },
     "execution_count": 52,
     "metadata": {},
     "output_type": "execute_result"
    }
   ],
   "source": [
    "grid_CNB.fit(vect.transform(X_train), y_train)\n",
    "grid_CNB.best_params_"
   ]
  },
  {
   "cell_type": "code",
   "execution_count": 32,
   "id": "13781f01",
   "metadata": {},
   "outputs": [],
   "source": [
    "cnb = ComplementNB(alpha=0.5)"
   ]
  },
  {
   "cell_type": "code",
   "execution_count": 33,
   "id": "364488c9",
   "metadata": {},
   "outputs": [],
   "source": [
    "cnb.fit(vect.transform(X_train), y_train)\n",
    "y_pred = cnb.predict(vect.transform(X_test))\n",
    "pred_dict['CNB'] = y_pred"
   ]
  },
  {
   "cell_type": "code",
   "execution_count": 34,
   "id": "1fcc6d8b",
   "metadata": {},
   "outputs": [],
   "source": [
    "cnb_report = metrics.classification_report(y_test, y_pred,digits=3)"
   ]
  },
  {
   "cell_type": "markdown",
   "id": "5b62270b",
   "metadata": {},
   "source": [
    "## Model 2: Linear Support Vector Classifier"
   ]
  },
  {
   "cell_type": "code",
   "execution_count": 58,
   "id": "51a5015f",
   "metadata": {},
   "outputs": [],
   "source": [
    "param_grid_lsvc = {'C': [0.1,0.25,0.5,0.75,1,1.25,1.5,1.75,2]}"
   ]
  },
  {
   "cell_type": "code",
   "execution_count": 59,
   "id": "a8c6796c",
   "metadata": {},
   "outputs": [],
   "source": [
    "grid_SVC = GridSearchCV(LinearSVC(), param_grid_lsvc, scoring='f1_weighted')"
   ]
  },
  {
   "cell_type": "code",
   "execution_count": 60,
   "id": "e791982d",
   "metadata": {},
   "outputs": [
    {
     "data": {
      "text/plain": [
       "{'C': 1.5}"
      ]
     },
     "execution_count": 60,
     "metadata": {},
     "output_type": "execute_result"
    }
   ],
   "source": [
    "grid_SVC.fit(vect.transform(X_train), y_train)\n",
    "grid_SVC.best_params_"
   ]
  },
  {
   "cell_type": "code",
   "execution_count": 51,
   "id": "956b9d46",
   "metadata": {},
   "outputs": [],
   "source": [
    "svc = LinearSVC(C=1.5)"
   ]
  },
  {
   "cell_type": "code",
   "execution_count": 52,
   "id": "135f22ff",
   "metadata": {},
   "outputs": [],
   "source": [
    "svc.fit(vect.transform(X_train), y_train)\n",
    "y_pred = svc.predict(vect.transform(X_test))\n",
    "pred_dict['LSVC'] = y_pred"
   ]
  },
  {
   "cell_type": "code",
   "execution_count": 53,
   "id": "44639b7b",
   "metadata": {},
   "outputs": [],
   "source": [
    "svc_report = metrics.classification_report(y_test, y_pred,digits=3)"
   ]
  },
  {
   "cell_type": "markdown",
   "id": "63fd0136",
   "metadata": {},
   "source": [
    "## Model 3: Multinomial Logistical Regression"
   ]
  },
  {
   "cell_type": "code",
   "execution_count": 24,
   "id": "66f82ceb",
   "metadata": {},
   "outputs": [],
   "source": [
    "param_grid_MLR = {'C': [0.75, 1, 1.25]}"
   ]
  },
  {
   "cell_type": "code",
   "execution_count": 25,
   "id": "9c675f67",
   "metadata": {},
   "outputs": [],
   "source": [
    "grid_MLR = GridSearchCV(LogisticRegression(max_iter=10000), param_grid_MLR, scoring='f1_weighted')"
   ]
  },
  {
   "cell_type": "code",
   "execution_count": 27,
   "id": "ab8a4f22",
   "metadata": {},
   "outputs": [],
   "source": [
    "#Grid search with different C values seems to get stuck. Don't run this cell\n",
    "# grid_MLR.fit(vect.transform(X_train), y_train)\n",
    "# grid_MLR.best_params_"
   ]
  },
  {
   "cell_type": "code",
   "execution_count": null,
   "id": "b092e885",
   "metadata": {},
   "outputs": [],
   "source": []
  },
  {
   "cell_type": "code",
   "execution_count": 55,
   "id": "8d31fb7d",
   "metadata": {},
   "outputs": [],
   "source": [
    "mlr = LogisticRegression(C=1, max_iter=10000)"
   ]
  },
  {
   "cell_type": "code",
   "execution_count": 56,
   "id": "6c6bf90d",
   "metadata": {},
   "outputs": [],
   "source": [
    "mlr.fit(vect.transform(X_train), y_train)\n",
    "y_pred = mlr.predict(vect.transform(X_test))\n",
    "pred_dict['MLR'] = y_pred"
   ]
  },
  {
   "cell_type": "code",
   "execution_count": 57,
   "id": "a6fb8f0a",
   "metadata": {},
   "outputs": [],
   "source": [
    "mlr_report = metrics.classification_report(y_test, y_pred,digits=3)"
   ]
  },
  {
   "cell_type": "markdown",
   "id": "2a74f995",
   "metadata": {},
   "source": [
    "## Model Evaluation:"
   ]
  },
  {
   "cell_type": "markdown",
   "id": "6f731c4c",
   "metadata": {},
   "source": [
    "### Classification Reports for all three models"
   ]
  },
  {
   "cell_type": "markdown",
   "id": "d07fd070",
   "metadata": {},
   "source": []
  },
  {
   "cell_type": "code",
   "execution_count": 58,
   "id": "a22871c4",
   "metadata": {},
   "outputs": [
    {
     "name": "stdout",
     "output_type": "stream",
     "text": [
      "Complement Naive Bayes classifier:\n",
      "              precision    recall  f1-score   support\n",
      "\n",
      "          -1      0.754     0.464     0.575       336\n",
      "           0      0.629     0.360     0.458       547\n",
      "           1      0.782     0.841     0.810      2178\n",
      "           2      0.683     0.836     0.752       894\n",
      "\n",
      "    accuracy                          0.741      3955\n",
      "   macro avg      0.712     0.625     0.649      3955\n",
      "weighted avg      0.736     0.741     0.728      3955\n",
      "\n",
      "Support Vector Classifier:\n",
      "              precision    recall  f1-score   support\n",
      "\n",
      "          -1      0.816     0.500     0.620       336\n",
      "           0      0.606     0.424     0.499       547\n",
      "           1      0.785     0.885     0.832      2178\n",
      "           2      0.774     0.789     0.781       894\n",
      "\n",
      "    accuracy                          0.767      3955\n",
      "   macro avg      0.745     0.649     0.683      3955\n",
      "weighted avg      0.760     0.767     0.757      3955\n",
      "\n",
      "Multinomial Logistical Regression:\n",
      "              precision    recall  f1-score   support\n",
      "\n",
      "          -1      0.843     0.256     0.393       336\n",
      "           0      0.658     0.320     0.431       547\n",
      "           1      0.727     0.930     0.816      2178\n",
      "           2      0.807     0.723     0.763       894\n",
      "\n",
      "    accuracy                          0.742      3955\n",
      "   macro avg      0.759     0.557     0.601      3955\n",
      "weighted avg      0.745     0.742     0.715      3955\n",
      "\n"
     ]
    }
   ],
   "source": [
    "print('Complement Naive Bayes classifier:')\n",
    "print(cnb_report)\n",
    "print('Support Vector Classifier:')\n",
    "print(svc_report)\n",
    "print('Multinomial Logistical Regression:')\n",
    "print(mlr_report)"
   ]
  },
  {
   "cell_type": "markdown",
   "id": "f80ed07a",
   "metadata": {},
   "source": [
    "### Confusion Matricies"
   ]
  },
  {
   "cell_type": "markdown",
   "id": "dfa3c815",
   "metadata": {},
   "source": [
    "Shown below are the confusion matricies for the three models we fitted to the vectorized training data. Support Vector Classifiers"
   ]
  },
  {
   "cell_type": "code",
   "execution_count": 39,
   "id": "a4004039",
   "metadata": {},
   "outputs": [],
   "source": [
    "cm_cnb = confusion_matrix(y_test, pred_dict['CNB'])\n",
    "cm_svc = confusion_matrix(y_test, pred_dict['LSVC'])\n",
    "cm_mlr = confusion_matrix(y_test, pred_dict['MLR'])\n",
    "labels = ['-1: Anti', '0: Neutral', '1: Pro', '2: News']"
   ]
  },
  {
   "cell_type": "code",
   "execution_count": 40,
   "id": "7143f87e",
   "metadata": {},
   "outputs": [],
   "source": [
    "cm_cnb = cm_cnb/cm_cnb.sum(axis=1).reshape(-1, 1)\n",
    "cm_svc = cm_svc/cm_svc.sum(axis=1).reshape(-1, 1)\n",
    "cm_mlr = cm_mlr/cm_mlr.sum(axis=1).reshape(-1, 1)"
   ]
  },
  {
   "cell_type": "code",
   "execution_count": 50,
   "id": "86394a69",
   "metadata": {},
   "outputs": [
    {
     "data": {
      "text/plain": [
       "Text(0.5, 1.0, 'Logisitc Regression')"
      ]
     },
     "execution_count": 50,
     "metadata": {},
     "output_type": "execute_result"
    },
    {
     "data": {
      "image/png": "[encoded data removed]",
      "text/plain": [
       "<Figure size 2000x500 with 6 Axes>"
      ]
     },
     "metadata": {},
     "output_type": "display_data"
    }
   ],
   "source": [
    "fig, axes = plt.subplots(1, 3, figsize=(20, 5), dpi=100)\n",
    "sns.heatmap(cm_cnb, annot=True, cmap='Blues', fmt='.3f', xticklabels=labels, yticklabels=labels, ax=axes[0])\n",
    "sns.heatmap(cm_svc, annot=True, cmap='Blues', fmt='.3f', xticklabels=labels, yticklabels=labels, ax=axes[1])\n",
    "sns.heatmap(cm_mlr, annot=True, cmap='Blues', fmt='.3f', xticklabels=labels, yticklabels=labels, ax=axes[2])\n",
    "plt.ylabel(\"True labels\")\n",
    "plt.xlabel(\"Predicted labels\")\n",
    "axes[0].set_title(f\"Complement Naive Bayes\", fontsize=20)\n",
    "axes[1].set_title(f\"Support Vector Classifier\", fontsize=20)\n",
    "axes[2].set_title(f\"Logisitc Regression\", fontsize=20)"
   ]
  },
  {
   "cell_type": "code",
   "execution_count": null,
   "id": "b17110c0",
   "metadata": {},
   "outputs": [],
   "source": []
  },
  {
   "cell_type": "code",
   "execution_count": null,
   "id": "19dcf6d3",
   "metadata": {},
   "outputs": [],
   "source": []
  }
 ],
 "metadata": {
  "kernelspec": {
   "display_name": "Python 3 (ipykernel)",
   "language": "python",
   "name": "python3"
  },
  "language_info": {
   "codemirror_mode": {
    "name": "ipython",
    "version": 3
   },
   "file_extension": ".py",
   "mimetype": "text/x-python",
   "name": "python",
   "nbconvert_exporter": "python",
   "pygments_lexer": "ipython3",
   "version": "3.8.12"
  }
 },
 "nbformat": 4,
 "nbformat_minor": 5
}
